{
 "cells": [
  {
   "cell_type": "markdown",
   "id": "8ba2ef3b",
   "metadata": {},
   "source": [
    "# NLP Disaster Tweets Kaggle Mini-Project"
   ]
  },
  {
   "cell_type": "markdown",
   "id": "38894000",
   "metadata": {},
   "source": [
    "## Introduction"
   ]
  },
  {
   "cell_type": "markdown",
   "id": "2c84aee9",
   "metadata": {},
   "source": [
    "In this project, we use the dataset provided by Kaggle from the \"Getting Started\" competition(https://www.kaggle.com/competitions/nlp-getting-started/overview). The aim of this project is to build a RNN model to classify tweets as either \"disaster\" or \"not disaster\". The data consists of 7613 tweets for training and 3263 tweets for testing. There are 5 features for the training data which are id, keyword, location, text and target. We will be predicting the target variable for test data. \n",
    "\n",
    "Natural Language Processing(NLP) helps machines understand human language. NLP is used in many real-world applications such as Google Translate, virtual agents such as Apple's Siri, Chatbots and sentiment analysis. We will use NLP techniques to help computers read the tweet texts and provide a sentiment analysis which in this case is whether the tweet is a disaster-related or not."
   ]
  },
  {
   "cell_type": "code",
   "execution_count": 1,
   "id": "bf35e0d4",
   "metadata": {},
   "outputs": [],
   "source": [
    "import numpy as np\n",
    "import pandas as pd\n",
    "import seaborn as sns\n",
    "import matplotlib.pyplot as plt\n",
    "\n",
    "import re\n",
    "import nltk\n",
    "\n",
    "from sklearn.feature_extraction.text import TfidfVectorizer\n",
    "from sklearn.model_selection import train_test_split\n",
    "\n",
    "import tensorflow as tf\n",
    "from tensorflow.keras.models import Sequential\n",
    "from tensorflow.keras.layers import Dense, Embedding, Dropout, LSTM\n",
    "from tensorflow.keras.preprocessing.sequence import pad_sequences\n",
    "from tensorflow.keras.preprocessing.text import Tokenizer\n",
    "from tensorflow.keras.optimizers import Adam"
   ]
  },
  {
   "cell_type": "code",
   "execution_count": 2,
   "id": "8c53ba77",
   "metadata": {},
   "outputs": [
    {
     "data": {
      "text/html": [
       "<div>\n",
       "<style scoped>\n",
       "    .dataframe tbody tr th:only-of-type {\n",
       "        vertical-align: middle;\n",
       "    }\n",
       "\n",
       "    .dataframe tbody tr th {\n",
       "        vertical-align: top;\n",
       "    }\n",
       "\n",
       "    .dataframe thead th {\n",
       "        text-align: right;\n",
       "    }\n",
       "</style>\n",
       "<table border=\"1\" class=\"dataframe\">\n",
       "  <thead>\n",
       "    <tr style=\"text-align: right;\">\n",
       "      <th></th>\n",
       "      <th>id</th>\n",
       "      <th>keyword</th>\n",
       "      <th>location</th>\n",
       "      <th>text</th>\n",
       "      <th>target</th>\n",
       "    </tr>\n",
       "  </thead>\n",
       "  <tbody>\n",
       "    <tr>\n",
       "      <th>0</th>\n",
       "      <td>1</td>\n",
       "      <td>NaN</td>\n",
       "      <td>NaN</td>\n",
       "      <td>Our Deeds are the Reason of this #earthquake M...</td>\n",
       "      <td>1</td>\n",
       "    </tr>\n",
       "    <tr>\n",
       "      <th>1</th>\n",
       "      <td>4</td>\n",
       "      <td>NaN</td>\n",
       "      <td>NaN</td>\n",
       "      <td>Forest fire near La Ronge Sask. Canada</td>\n",
       "      <td>1</td>\n",
       "    </tr>\n",
       "    <tr>\n",
       "      <th>2</th>\n",
       "      <td>5</td>\n",
       "      <td>NaN</td>\n",
       "      <td>NaN</td>\n",
       "      <td>All residents asked to 'shelter in place' are ...</td>\n",
       "      <td>1</td>\n",
       "    </tr>\n",
       "    <tr>\n",
       "      <th>3</th>\n",
       "      <td>6</td>\n",
       "      <td>NaN</td>\n",
       "      <td>NaN</td>\n",
       "      <td>13,000 people receive #wildfires evacuation or...</td>\n",
       "      <td>1</td>\n",
       "    </tr>\n",
       "    <tr>\n",
       "      <th>4</th>\n",
       "      <td>7</td>\n",
       "      <td>NaN</td>\n",
       "      <td>NaN</td>\n",
       "      <td>Just got sent this photo from Ruby #Alaska as ...</td>\n",
       "      <td>1</td>\n",
       "    </tr>\n",
       "  </tbody>\n",
       "</table>\n",
       "</div>"
      ],
      "text/plain": [
       "   id keyword location                                               text  \\\n",
       "0   1     NaN      NaN  Our Deeds are the Reason of this #earthquake M...   \n",
       "1   4     NaN      NaN             Forest fire near La Ronge Sask. Canada   \n",
       "2   5     NaN      NaN  All residents asked to 'shelter in place' are ...   \n",
       "3   6     NaN      NaN  13,000 people receive #wildfires evacuation or...   \n",
       "4   7     NaN      NaN  Just got sent this photo from Ruby #Alaska as ...   \n",
       "\n",
       "   target  \n",
       "0       1  \n",
       "1       1  \n",
       "2       1  \n",
       "3       1  \n",
       "4       1  "
      ]
     },
     "execution_count": 2,
     "metadata": {},
     "output_type": "execute_result"
    }
   ],
   "source": [
    "train_data = pd.read_csv(\"./Data/train.csv\")\n",
    "train_data.head()"
   ]
  },
  {
   "cell_type": "code",
   "execution_count": 3,
   "id": "afd4b59f",
   "metadata": {},
   "outputs": [
    {
     "data": {
      "text/plain": [
       "(7613, 5)"
      ]
     },
     "execution_count": 3,
     "metadata": {},
     "output_type": "execute_result"
    }
   ],
   "source": [
    "train_data.shape"
   ]
  },
  {
   "cell_type": "code",
   "execution_count": 4,
   "id": "8b4fd0b1",
   "metadata": {},
   "outputs": [
    {
     "data": {
      "text/html": [
       "<div>\n",
       "<style scoped>\n",
       "    .dataframe tbody tr th:only-of-type {\n",
       "        vertical-align: middle;\n",
       "    }\n",
       "\n",
       "    .dataframe tbody tr th {\n",
       "        vertical-align: top;\n",
       "    }\n",
       "\n",
       "    .dataframe thead th {\n",
       "        text-align: right;\n",
       "    }\n",
       "</style>\n",
       "<table border=\"1\" class=\"dataframe\">\n",
       "  <thead>\n",
       "    <tr style=\"text-align: right;\">\n",
       "      <th></th>\n",
       "      <th>id</th>\n",
       "      <th>keyword</th>\n",
       "      <th>location</th>\n",
       "      <th>text</th>\n",
       "      <th>target</th>\n",
       "    </tr>\n",
       "  </thead>\n",
       "  <tbody>\n",
       "    <tr>\n",
       "      <th>count</th>\n",
       "      <td>7613.000000</td>\n",
       "      <td>7552</td>\n",
       "      <td>5080</td>\n",
       "      <td>7613</td>\n",
       "      <td>7613.00000</td>\n",
       "    </tr>\n",
       "    <tr>\n",
       "      <th>unique</th>\n",
       "      <td>NaN</td>\n",
       "      <td>221</td>\n",
       "      <td>3341</td>\n",
       "      <td>7503</td>\n",
       "      <td>NaN</td>\n",
       "    </tr>\n",
       "    <tr>\n",
       "      <th>top</th>\n",
       "      <td>NaN</td>\n",
       "      <td>fatalities</td>\n",
       "      <td>USA</td>\n",
       "      <td>11-Year-Old Boy Charged With Manslaughter of T...</td>\n",
       "      <td>NaN</td>\n",
       "    </tr>\n",
       "    <tr>\n",
       "      <th>freq</th>\n",
       "      <td>NaN</td>\n",
       "      <td>45</td>\n",
       "      <td>104</td>\n",
       "      <td>10</td>\n",
       "      <td>NaN</td>\n",
       "    </tr>\n",
       "    <tr>\n",
       "      <th>mean</th>\n",
       "      <td>5441.934848</td>\n",
       "      <td>NaN</td>\n",
       "      <td>NaN</td>\n",
       "      <td>NaN</td>\n",
       "      <td>0.42966</td>\n",
       "    </tr>\n",
       "    <tr>\n",
       "      <th>std</th>\n",
       "      <td>3137.116090</td>\n",
       "      <td>NaN</td>\n",
       "      <td>NaN</td>\n",
       "      <td>NaN</td>\n",
       "      <td>0.49506</td>\n",
       "    </tr>\n",
       "    <tr>\n",
       "      <th>min</th>\n",
       "      <td>1.000000</td>\n",
       "      <td>NaN</td>\n",
       "      <td>NaN</td>\n",
       "      <td>NaN</td>\n",
       "      <td>0.00000</td>\n",
       "    </tr>\n",
       "    <tr>\n",
       "      <th>25%</th>\n",
       "      <td>2734.000000</td>\n",
       "      <td>NaN</td>\n",
       "      <td>NaN</td>\n",
       "      <td>NaN</td>\n",
       "      <td>0.00000</td>\n",
       "    </tr>\n",
       "    <tr>\n",
       "      <th>50%</th>\n",
       "      <td>5408.000000</td>\n",
       "      <td>NaN</td>\n",
       "      <td>NaN</td>\n",
       "      <td>NaN</td>\n",
       "      <td>0.00000</td>\n",
       "    </tr>\n",
       "    <tr>\n",
       "      <th>75%</th>\n",
       "      <td>8146.000000</td>\n",
       "      <td>NaN</td>\n",
       "      <td>NaN</td>\n",
       "      <td>NaN</td>\n",
       "      <td>1.00000</td>\n",
       "    </tr>\n",
       "    <tr>\n",
       "      <th>max</th>\n",
       "      <td>10873.000000</td>\n",
       "      <td>NaN</td>\n",
       "      <td>NaN</td>\n",
       "      <td>NaN</td>\n",
       "      <td>1.00000</td>\n",
       "    </tr>\n",
       "  </tbody>\n",
       "</table>\n",
       "</div>"
      ],
      "text/plain": [
       "                  id     keyword location  \\\n",
       "count    7613.000000        7552     5080   \n",
       "unique           NaN         221     3341   \n",
       "top              NaN  fatalities      USA   \n",
       "freq             NaN          45      104   \n",
       "mean     5441.934848         NaN      NaN   \n",
       "std      3137.116090         NaN      NaN   \n",
       "min         1.000000         NaN      NaN   \n",
       "25%      2734.000000         NaN      NaN   \n",
       "50%      5408.000000         NaN      NaN   \n",
       "75%      8146.000000         NaN      NaN   \n",
       "max     10873.000000         NaN      NaN   \n",
       "\n",
       "                                                     text      target  \n",
       "count                                                7613  7613.00000  \n",
       "unique                                               7503         NaN  \n",
       "top     11-Year-Old Boy Charged With Manslaughter of T...         NaN  \n",
       "freq                                                   10         NaN  \n",
       "mean                                                  NaN     0.42966  \n",
       "std                                                   NaN     0.49506  \n",
       "min                                                   NaN     0.00000  \n",
       "25%                                                   NaN     0.00000  \n",
       "50%                                                   NaN     0.00000  \n",
       "75%                                                   NaN     1.00000  \n",
       "max                                                   NaN     1.00000  "
      ]
     },
     "execution_count": 4,
     "metadata": {},
     "output_type": "execute_result"
    }
   ],
   "source": [
    "train_data.describe(include = 'all')"
   ]
  },
  {
   "cell_type": "code",
   "execution_count": 5,
   "id": "e8d9f6e3",
   "metadata": {},
   "outputs": [
    {
     "data": {
      "text/html": [
       "<div>\n",
       "<style scoped>\n",
       "    .dataframe tbody tr th:only-of-type {\n",
       "        vertical-align: middle;\n",
       "    }\n",
       "\n",
       "    .dataframe tbody tr th {\n",
       "        vertical-align: top;\n",
       "    }\n",
       "\n",
       "    .dataframe thead th {\n",
       "        text-align: right;\n",
       "    }\n",
       "</style>\n",
       "<table border=\"1\" class=\"dataframe\">\n",
       "  <thead>\n",
       "    <tr style=\"text-align: right;\">\n",
       "      <th></th>\n",
       "      <th>id</th>\n",
       "      <th>keyword</th>\n",
       "      <th>location</th>\n",
       "      <th>text</th>\n",
       "    </tr>\n",
       "  </thead>\n",
       "  <tbody>\n",
       "    <tr>\n",
       "      <th>0</th>\n",
       "      <td>0</td>\n",
       "      <td>NaN</td>\n",
       "      <td>NaN</td>\n",
       "      <td>Just happened a terrible car crash</td>\n",
       "    </tr>\n",
       "    <tr>\n",
       "      <th>1</th>\n",
       "      <td>2</td>\n",
       "      <td>NaN</td>\n",
       "      <td>NaN</td>\n",
       "      <td>Heard about #earthquake is different cities, s...</td>\n",
       "    </tr>\n",
       "    <tr>\n",
       "      <th>2</th>\n",
       "      <td>3</td>\n",
       "      <td>NaN</td>\n",
       "      <td>NaN</td>\n",
       "      <td>there is a forest fire at spot pond, geese are...</td>\n",
       "    </tr>\n",
       "    <tr>\n",
       "      <th>3</th>\n",
       "      <td>9</td>\n",
       "      <td>NaN</td>\n",
       "      <td>NaN</td>\n",
       "      <td>Apocalypse lighting. #Spokane #wildfires</td>\n",
       "    </tr>\n",
       "    <tr>\n",
       "      <th>4</th>\n",
       "      <td>11</td>\n",
       "      <td>NaN</td>\n",
       "      <td>NaN</td>\n",
       "      <td>Typhoon Soudelor kills 28 in China and Taiwan</td>\n",
       "    </tr>\n",
       "  </tbody>\n",
       "</table>\n",
       "</div>"
      ],
      "text/plain": [
       "   id keyword location                                               text\n",
       "0   0     NaN      NaN                 Just happened a terrible car crash\n",
       "1   2     NaN      NaN  Heard about #earthquake is different cities, s...\n",
       "2   3     NaN      NaN  there is a forest fire at spot pond, geese are...\n",
       "3   9     NaN      NaN           Apocalypse lighting. #Spokane #wildfires\n",
       "4  11     NaN      NaN      Typhoon Soudelor kills 28 in China and Taiwan"
      ]
     },
     "execution_count": 5,
     "metadata": {},
     "output_type": "execute_result"
    }
   ],
   "source": [
    "test_data = pd.read_csv(\"./Data/test.csv\")\n",
    "test_data.head()"
   ]
  },
  {
   "cell_type": "code",
   "execution_count": 6,
   "id": "44e4a95b",
   "metadata": {},
   "outputs": [
    {
     "data": {
      "text/plain": [
       "(3263, 4)"
      ]
     },
     "execution_count": 6,
     "metadata": {},
     "output_type": "execute_result"
    }
   ],
   "source": [
    "test_data.shape"
   ]
  },
  {
   "cell_type": "code",
   "execution_count": 7,
   "id": "f9feb618",
   "metadata": {},
   "outputs": [
    {
     "data": {
      "text/html": [
       "<div>\n",
       "<style scoped>\n",
       "    .dataframe tbody tr th:only-of-type {\n",
       "        vertical-align: middle;\n",
       "    }\n",
       "\n",
       "    .dataframe tbody tr th {\n",
       "        vertical-align: top;\n",
       "    }\n",
       "\n",
       "    .dataframe thead th {\n",
       "        text-align: right;\n",
       "    }\n",
       "</style>\n",
       "<table border=\"1\" class=\"dataframe\">\n",
       "  <thead>\n",
       "    <tr style=\"text-align: right;\">\n",
       "      <th></th>\n",
       "      <th>id</th>\n",
       "      <th>keyword</th>\n",
       "      <th>location</th>\n",
       "      <th>text</th>\n",
       "    </tr>\n",
       "  </thead>\n",
       "  <tbody>\n",
       "    <tr>\n",
       "      <th>count</th>\n",
       "      <td>3263.000000</td>\n",
       "      <td>3237</td>\n",
       "      <td>2158</td>\n",
       "      <td>3263</td>\n",
       "    </tr>\n",
       "    <tr>\n",
       "      <th>unique</th>\n",
       "      <td>NaN</td>\n",
       "      <td>221</td>\n",
       "      <td>1602</td>\n",
       "      <td>3243</td>\n",
       "    </tr>\n",
       "    <tr>\n",
       "      <th>top</th>\n",
       "      <td>NaN</td>\n",
       "      <td>deluged</td>\n",
       "      <td>New York</td>\n",
       "      <td>11-Year-Old Boy Charged With Manslaughter of T...</td>\n",
       "    </tr>\n",
       "    <tr>\n",
       "      <th>freq</th>\n",
       "      <td>NaN</td>\n",
       "      <td>23</td>\n",
       "      <td>38</td>\n",
       "      <td>3</td>\n",
       "    </tr>\n",
       "    <tr>\n",
       "      <th>mean</th>\n",
       "      <td>5427.152927</td>\n",
       "      <td>NaN</td>\n",
       "      <td>NaN</td>\n",
       "      <td>NaN</td>\n",
       "    </tr>\n",
       "    <tr>\n",
       "      <th>std</th>\n",
       "      <td>3146.427221</td>\n",
       "      <td>NaN</td>\n",
       "      <td>NaN</td>\n",
       "      <td>NaN</td>\n",
       "    </tr>\n",
       "    <tr>\n",
       "      <th>min</th>\n",
       "      <td>0.000000</td>\n",
       "      <td>NaN</td>\n",
       "      <td>NaN</td>\n",
       "      <td>NaN</td>\n",
       "    </tr>\n",
       "    <tr>\n",
       "      <th>25%</th>\n",
       "      <td>2683.000000</td>\n",
       "      <td>NaN</td>\n",
       "      <td>NaN</td>\n",
       "      <td>NaN</td>\n",
       "    </tr>\n",
       "    <tr>\n",
       "      <th>50%</th>\n",
       "      <td>5500.000000</td>\n",
       "      <td>NaN</td>\n",
       "      <td>NaN</td>\n",
       "      <td>NaN</td>\n",
       "    </tr>\n",
       "    <tr>\n",
       "      <th>75%</th>\n",
       "      <td>8176.000000</td>\n",
       "      <td>NaN</td>\n",
       "      <td>NaN</td>\n",
       "      <td>NaN</td>\n",
       "    </tr>\n",
       "    <tr>\n",
       "      <th>max</th>\n",
       "      <td>10875.000000</td>\n",
       "      <td>NaN</td>\n",
       "      <td>NaN</td>\n",
       "      <td>NaN</td>\n",
       "    </tr>\n",
       "  </tbody>\n",
       "</table>\n",
       "</div>"
      ],
      "text/plain": [
       "                  id  keyword  location  \\\n",
       "count    3263.000000     3237      2158   \n",
       "unique           NaN      221      1602   \n",
       "top              NaN  deluged  New York   \n",
       "freq             NaN       23        38   \n",
       "mean     5427.152927      NaN       NaN   \n",
       "std      3146.427221      NaN       NaN   \n",
       "min         0.000000      NaN       NaN   \n",
       "25%      2683.000000      NaN       NaN   \n",
       "50%      5500.000000      NaN       NaN   \n",
       "75%      8176.000000      NaN       NaN   \n",
       "max     10875.000000      NaN       NaN   \n",
       "\n",
       "                                                     text  \n",
       "count                                                3263  \n",
       "unique                                               3243  \n",
       "top     11-Year-Old Boy Charged With Manslaughter of T...  \n",
       "freq                                                    3  \n",
       "mean                                                  NaN  \n",
       "std                                                   NaN  \n",
       "min                                                   NaN  \n",
       "25%                                                   NaN  \n",
       "50%                                                   NaN  \n",
       "75%                                                   NaN  \n",
       "max                                                   NaN  "
      ]
     },
     "execution_count": 7,
     "metadata": {},
     "output_type": "execute_result"
    }
   ],
   "source": [
    "test_data.describe(include = 'all')"
   ]
  },
  {
   "cell_type": "code",
   "execution_count": 8,
   "id": "33c34f31",
   "metadata": {},
   "outputs": [
    {
     "data": {
      "text/plain": [
       "id             0\n",
       "keyword       61\n",
       "location    2533\n",
       "text           0\n",
       "target         0\n",
       "dtype: int64"
      ]
     },
     "execution_count": 8,
     "metadata": {},
     "output_type": "execute_result"
    }
   ],
   "source": [
    "train_data.isnull().sum()"
   ]
  },
  {
   "cell_type": "code",
   "execution_count": 9,
   "id": "b969b80c",
   "metadata": {},
   "outputs": [
    {
     "data": {
      "text/plain": [
       "id             0\n",
       "keyword       26\n",
       "location    1105\n",
       "text           0\n",
       "dtype: int64"
      ]
     },
     "execution_count": 9,
     "metadata": {},
     "output_type": "execute_result"
    }
   ],
   "source": [
    "test_data.isnull().sum()"
   ]
  },
  {
   "cell_type": "markdown",
   "id": "fb6f58c5",
   "metadata": {},
   "source": [
    "## Data Cleaning and Exploratory Data Analysis "
   ]
  },
  {
   "cell_type": "markdown",
   "id": "bcf7670d",
   "metadata": {},
   "source": [
    "In the training data, there 7613 rows in which the attributes id, text and target have no missing values. From above, we can see that keyword has 61 missing observations and location has 2533 missing values. In the test data as well, keyword and location have 26 and 1105 missing values, respectively. We will drop the features keyword and location from the datasets so that we don't have to manipulate missing values for our model."
   ]
  },
  {
   "cell_type": "code",
   "execution_count": 10,
   "id": "05ca4b7e",
   "metadata": {},
   "outputs": [],
   "source": [
    "train_data = train_data.drop(['keyword', 'location'], axis = 1)\n",
    "test_data = test_data.drop(['keyword', 'location'], axis = 1)"
   ]
  },
  {
   "cell_type": "code",
   "execution_count": 11,
   "id": "a96d9953",
   "metadata": {},
   "outputs": [
    {
     "data": {
      "image/png": "[encoded data removed]",
      "text/plain": [
       "<Figure size 640x480 with 1 Axes>"
      ]
     },
     "metadata": {},
     "output_type": "display_data"
    }
   ],
   "source": [
    "fig, ax = plt.subplots()\n",
    "ax = sns.countplot(x = train_data['target'])\n",
    "plt.title(\"The Distribution of Non-Disaster(0) vs Disaster Tweets(1)\")\n",
    "plt.show()"
   ]
  },
  {
   "cell_type": "code",
   "execution_count": 12,
   "id": "7dd41577",
   "metadata": {},
   "outputs": [
    {
     "name": "stdout",
     "output_type": "stream",
     "text": [
      "Target distribution(%):\n",
      "0    57.03\n",
      "1    42.97\n",
      "Name: target, dtype: float64\n"
     ]
    }
   ],
   "source": [
    "print('Target distribution(%):') \n",
    "print(np.round(train_data['target'].value_counts(normalize=True)*100, 2))"
   ]
  },
  {
   "cell_type": "markdown",
   "id": "e95e12f5",
   "metadata": {},
   "source": [
    "From the above graph, we can see there are slightly more non-disaster tweets than disaster tweets. However, after comparing the percentage of target distribution, the data seems relatively balanced. "
   ]
  },
  {
   "cell_type": "markdown",
   "id": "05c087f2",
   "metadata": {},
   "source": [
    "Let's see the text content for a disaster tweet and a non-disaster tweet."
   ]
  },
  {
   "cell_type": "code",
   "execution_count": 13,
   "id": "45b06d89",
   "metadata": {},
   "outputs": [
    {
     "name": "stdout",
     "output_type": "stream",
     "text": [
      "Our Deeds are the Reason of this #earthquake May ALLAH Forgive us all\n",
      "Forest fire near La Ronge Sask. Canada\n",
      "All residents asked to 'shelter in place' are being notified by officers. No other evacuation or shelter in place orders are expected\n",
      "13,000 people receive #wildfires evacuation orders in California \n"
     ]
    }
   ],
   "source": [
    "#Disaster Tweet\n",
    "disaster_tweets = train_data[train_data['target']==1]['text']\n",
    "print(disaster_tweets.values[0])\n",
    "print(disaster_tweets.values[1])\n",
    "print(disaster_tweets.values[2])\n",
    "print(disaster_tweets.values[3])"
   ]
  },
  {
   "cell_type": "code",
   "execution_count": 14,
   "id": "f11bcb71",
   "metadata": {},
   "outputs": [
    {
     "name": "stdout",
     "output_type": "stream",
     "text": [
      "What's up man?\n",
      "I love fruits\n",
      "Summer is lovely\n",
      "My car is so fast\n"
     ]
    }
   ],
   "source": [
    "#Non-Disaster Tweet\n",
    "non_disaster_tweets = train_data[train_data['target']==0]['text']\n",
    "print(non_disaster_tweets.values[0])\n",
    "print(non_disaster_tweets.values[1])\n",
    "print(non_disaster_tweets.values[2])\n",
    "print(non_disaster_tweets.values[3])"
   ]
  },
  {
   "cell_type": "markdown",
   "id": "74db61c9",
   "metadata": {},
   "source": [
    "Comparing the distribution of characters in disaster tweets and non-disaster tweets, we can see that the number of characters in disaster tweets is relatively higher than the number of characters in non-disaster tweets."
   ]
  },
  {
   "cell_type": "code",
   "execution_count": 15,
   "id": "e4185bc1",
   "metadata": {},
   "outputs": [
    {
     "name": "stdout",
     "output_type": "stream",
     "text": [
      "Number of Characters in Disaster Tweets\n",
      "Min: 14\n",
      "Max: 151\n",
      "Mean: 108.11\n"
     ]
    }
   ],
   "source": [
    "print(\"Number of Characters in Disaster Tweets\")\n",
    "print(\"Min:\", min(disaster_tweets.str.len()))\n",
    "print(\"Max:\", max(disaster_tweets.str.len()))\n",
    "print(\"Mean:\", np.round(np.mean(disaster_tweets.str.len()), 2))"
   ]
  },
  {
   "cell_type": "code",
   "execution_count": 16,
   "id": "aef3e759",
   "metadata": {},
   "outputs": [
    {
     "name": "stdout",
     "output_type": "stream",
     "text": [
      "Number of Characters in Non-Disaster Tweets\n",
      "Min: 7\n",
      "Max: 157\n",
      "Mean: 95.71\n"
     ]
    }
   ],
   "source": [
    "print(\"Number of Characters in Non-Disaster Tweets\")\n",
    "print(\"Min:\", min(non_disaster_tweets.str.len()))\n",
    "print(\"Max:\", max(non_disaster_tweets.str.len()))\n",
    "print(\"Mean:\", np.round(np.mean(non_disaster_tweets.str.len()), 2))"
   ]
  },
  {
   "cell_type": "code",
   "execution_count": 17,
   "id": "10a079fb",
   "metadata": {},
   "outputs": [
    {
     "data": {
      "image/png": "[encoded data removed]",
      "text/plain": [
       "<Figure size 640x480 with 1 Axes>"
      ]
     },
     "metadata": {},
     "output_type": "display_data"
    }
   ],
   "source": [
    "# Visualizing number of characters in each tweet\n",
    "fig, ax = plt.subplots()\n",
    "ax = sns.kdeplot(train_data, x = train_data['text'].str.len(), hue = 'target')\n",
    "plt.title(\"The Distribution of Characters per Tweet based on Target\")\n",
    "plt.show()"
   ]
  },
  {
   "cell_type": "markdown",
   "id": "aa162737",
   "metadata": {},
   "source": [
    "Comparing the distribution of words in disaster and non-disaster tweets, we can see that the word distribution is similar in both types of tweets."
   ]
  },
  {
   "cell_type": "code",
   "execution_count": 18,
   "id": "8b6b7747",
   "metadata": {},
   "outputs": [
    {
     "data": {
      "image/png": "[encoded data removed]",
      "text/plain": [
       "<Figure size 640x480 with 1 Axes>"
      ]
     },
     "metadata": {},
     "output_type": "display_data"
    }
   ],
   "source": [
    "# Visualizing number of words in each Category\n",
    "train_data['text'].str.split().map(lambda x: len(x))\n",
    "\n",
    "fig, ax = plt.subplots()\n",
    "ax = sns.histplot(train_data, x = train_data['text'].str.split().map(lambda x: len(x)), hue = train_data['target'], kde = True)\n",
    "plt.title(\"The Distribution of Words per Tweet based on Target\")\n",
    "plt.show()"
   ]
  },
  {
   "cell_type": "markdown",
   "id": "7c1c1f86",
   "metadata": {},
   "source": [
    "We will apply NLP techniques on the text data so that it will easier for the model to analyse and predict the target variable."
   ]
  },
  {
   "cell_type": "markdown",
   "id": "51053eea",
   "metadata": {},
   "source": [
    "## Text Preprocessing"
   ]
  },
  {
   "cell_type": "markdown",
   "id": "62a58a7c",
   "metadata": {},
   "source": [
    "To make the text more readable, we have to make sure the text is all lowercase and remove special characters such as hashtags etc. Then we will remove stopwords. Here, the stopwords are commonly used words in English. By removing them, we can focus on more important words in the text."
   ]
  },
  {
   "cell_type": "code",
   "execution_count": 19,
   "id": "08bcd819",
   "metadata": {},
   "outputs": [],
   "source": [
    "#References #2, #13\n",
    "#Lowercase all text\n",
    "train_data[\"text\"] = train_data[\"text\"].str.lower()\n",
    "\n",
    "#Remove numeric and special characters, including punctuation\n",
    "train_data[\"text\"] = train_data[\"text\"].apply(lambda row: re.sub(r'[^\\w\\s]+', '', row))\n",
    "train_data[\"text\"] = train_data[\"text\"].apply(lambda row: re.sub(r'[0-9]', '', row))"
   ]
  },
  {
   "cell_type": "code",
   "execution_count": 20,
   "id": "79b97d73",
   "metadata": {},
   "outputs": [],
   "source": [
    "#Remove stopwords\n",
    "stopwords = nltk.corpus.stopwords.words('english')\n",
    "\n",
    "train_data[\"text\"] = train_data[\"text\"].apply(lambda words: ' '.join(word for word in words.split() if word not in stopwords))"
   ]
  },
  {
   "cell_type": "code",
   "execution_count": 21,
   "id": "cc2bd461",
   "metadata": {},
   "outputs": [
    {
     "data": {
      "text/html": [
       "<div>\n",
       "<style scoped>\n",
       "    .dataframe tbody tr th:only-of-type {\n",
       "        vertical-align: middle;\n",
       "    }\n",
       "\n",
       "    .dataframe tbody tr th {\n",
       "        vertical-align: top;\n",
       "    }\n",
       "\n",
       "    .dataframe thead th {\n",
       "        text-align: right;\n",
       "    }\n",
       "</style>\n",
       "<table border=\"1\" class=\"dataframe\">\n",
       "  <thead>\n",
       "    <tr style=\"text-align: right;\">\n",
       "      <th></th>\n",
       "      <th>id</th>\n",
       "      <th>text</th>\n",
       "      <th>target</th>\n",
       "    </tr>\n",
       "  </thead>\n",
       "  <tbody>\n",
       "    <tr>\n",
       "      <th>0</th>\n",
       "      <td>1</td>\n",
       "      <td>deeds reason earthquake may allah forgive us</td>\n",
       "      <td>1</td>\n",
       "    </tr>\n",
       "    <tr>\n",
       "      <th>1</th>\n",
       "      <td>4</td>\n",
       "      <td>forest fire near la ronge sask canada</td>\n",
       "      <td>1</td>\n",
       "    </tr>\n",
       "    <tr>\n",
       "      <th>2</th>\n",
       "      <td>5</td>\n",
       "      <td>residents asked shelter place notified officer...</td>\n",
       "      <td>1</td>\n",
       "    </tr>\n",
       "    <tr>\n",
       "      <th>3</th>\n",
       "      <td>6</td>\n",
       "      <td>people receive wildfires evacuation orders cal...</td>\n",
       "      <td>1</td>\n",
       "    </tr>\n",
       "    <tr>\n",
       "      <th>4</th>\n",
       "      <td>7</td>\n",
       "      <td>got sent photo ruby alaska smoke wildfires pou...</td>\n",
       "      <td>1</td>\n",
       "    </tr>\n",
       "  </tbody>\n",
       "</table>\n",
       "</div>"
      ],
      "text/plain": [
       "   id                                               text  target\n",
       "0   1       deeds reason earthquake may allah forgive us       1\n",
       "1   4              forest fire near la ronge sask canada       1\n",
       "2   5  residents asked shelter place notified officer...       1\n",
       "3   6  people receive wildfires evacuation orders cal...       1\n",
       "4   7  got sent photo ruby alaska smoke wildfires pou...       1"
      ]
     },
     "execution_count": 21,
     "metadata": {},
     "output_type": "execute_result"
    }
   ],
   "source": [
    "train_data.head()"
   ]
  },
  {
   "cell_type": "markdown",
   "id": "f0507863",
   "metadata": {},
   "source": [
    "Next, we will tokenize and lemmatize the text.\n",
    "\n",
    "Tokenization is a technique to break down sentences into a stream of words called tokens. This can be used for further analysis or in other methods for natural language processing.\n",
    "\n",
    "Lemmatization is text preprocessing technique similar to stemming since they can be used to convert words into their root form. Lemmatization is more advanced since it actually transforms the word to its actual root by using a dictionary. Because it tries to be more accurate, it requires more processing power and time to generate an output. However since I'm trying to classify tweets, it would be better to have more accurate conversions of the word to its root."
   ]
  },
  {
   "cell_type": "code",
   "execution_count": 22,
   "id": "a294ee72",
   "metadata": {},
   "outputs": [],
   "source": [
    "#References #5, #6\n",
    "wordnet_lemmatizer = nltk.stem.WordNetLemmatizer()\n",
    "def lemmatizer(text):\n",
    "    tokens = nltk.word_tokenize(text)\n",
    "    lem_text = ' '.join([wordnet_lemmatizer.lemmatize(w) for w in tokens])\n",
    "    return lem_text"
   ]
  },
  {
   "cell_type": "code",
   "execution_count": 23,
   "id": "4fba0c34",
   "metadata": {},
   "outputs": [],
   "source": [
    "train_data[\"text\"] = train_data[\"text\"].apply(lemmatizer)"
   ]
  },
  {
   "cell_type": "code",
   "execution_count": 24,
   "id": "e35dbf4f",
   "metadata": {},
   "outputs": [
    {
     "data": {
      "text/plain": [
       "0           deed reason earthquake may allah forgive u\n",
       "1                forest fire near la ronge sask canada\n",
       "2    resident asked shelter place notified officer ...\n",
       "3    people receive wildfire evacuation order calif...\n",
       "4    got sent photo ruby alaska smoke wildfire pour...\n",
       "Name: text, dtype: object"
      ]
     },
     "execution_count": 24,
     "metadata": {},
     "output_type": "execute_result"
    }
   ],
   "source": [
    "train_data[\"text\"].head()"
   ]
  },
  {
   "cell_type": "markdown",
   "id": "eff157d1",
   "metadata": {},
   "source": [
    "## Feature Extraction "
   ]
  },
  {
   "cell_type": "markdown",
   "id": "6c56bc28",
   "metadata": {},
   "source": [
    "### TF-IDF Vectorizer"
   ]
  },
  {
   "cell_type": "markdown",
   "id": "3bbf2b29",
   "metadata": {},
   "source": [
    "#### Brief Summary about TF-IDF \n",
    "\n",
    "Term Frequency - Inverse Document Frequency, or TF-IDF, is a measure used to evaluate how meaningful a word is to a document among a collection of documents. It vectorizes a word by multiplying the word's Term Frequency (TF) with the Inverse Document Frequency (IDF).\n",
    "\n",
    "**TF** = No. of times a certain word appears in document. \n",
    "\n",
    "**IDF** = Weight of the term or the measure of how common or uncommon the word is across the entire set of documents. In sklearn, IDF is calculated by:\n",
    "\n",
    "$$IDF(t) = \\log \\frac{(1+n)}{1 + DF(t)} + 1$$\n",
    "where, \n",
    "- ***t*** = term that is being measured \n",
    "- ***n*** = number of total documents in the corpus \n",
    "- ***DF(t)*** = Number of documents in which term, t appears \n",
    "      \n",
    "The TF-IDF score is between 0 and 1. The more relevant the term, the higher TF-IDF value (approaching 1).\n",
    "\n",
    "In this next step, we will be using sklearn's TF-IDF Vectorizer for processing raw text to feature vectors. By doing this, it will distinguish how relevant a term is to a document proportional to it's importance across all documents in the corpus. This can help distinguish the top words in each category which can help with further classification."
   ]
  },
  {
   "cell_type": "code",
   "execution_count": 25,
   "id": "46112288",
   "metadata": {},
   "outputs": [
    {
     "data": {
      "text/plain": [
       "(7613, 1000)"
      ]
     },
     "execution_count": 25,
     "metadata": {},
     "output_type": "execute_result"
    }
   ],
   "source": [
    "#Initialise the vectorizer\n",
    "tfidf_vec = TfidfVectorizer(max_features = 1000)\n",
    "\n",
    "#convert text to matrix form\n",
    "tfidf_vec.fit(train_data[\"text\"])\n",
    "\n",
    "features = tfidf_vec.transform(train_data[\"text\"]).toarray()\n",
    "\n",
    "features.shape"
   ]
  },
  {
   "cell_type": "code",
   "execution_count": 26,
   "id": "e4452b16",
   "metadata": {},
   "outputs": [
    {
     "data": {
      "text/plain": [
       "(7613,)"
      ]
     },
     "execution_count": 26,
     "metadata": {},
     "output_type": "execute_result"
    }
   ],
   "source": [
    "#set labels to target column in train_data\n",
    "labels = train_data[\"target\"] \n",
    "\n",
    "labels.shape"
   ]
  },
  {
   "cell_type": "code",
   "execution_count": 27,
   "id": "cbf76fcc",
   "metadata": {},
   "outputs": [],
   "source": [
    "#https://stackoverflow.com/questions/52182185/how-to-use-tf-idf-vectorizer-with-lstm-in-keras-python\n",
    "features = features[:, :, None] "
   ]
  },
  {
   "cell_type": "code",
   "execution_count": 28,
   "id": "b50dd895",
   "metadata": {},
   "outputs": [],
   "source": [
    "#Split dataset into train and validation sets\n",
    "X_train, X_valid, y_train, y_valid = train_test_split(features, labels, test_size = 0.1, random_state = 1)"
   ]
  },
  {
   "cell_type": "markdown",
   "id": "5bf9bc07",
   "metadata": {},
   "source": [
    "## Model Building"
   ]
  },
  {
   "cell_type": "markdown",
   "id": "afd8a852",
   "metadata": {},
   "source": [
    "For the initial model, we will modify the model used in the tensorflow tutorial for RNN text classification(https://www.tensorflow.org/text/tutorials/text_classification_rnn). Our model has 2 Bidirectional LSTM Layers and uses the TF-IDF vectors."
   ]
  },
  {
   "cell_type": "markdown",
   "id": "ad5685a1",
   "metadata": {},
   "source": [
    "### Initial Model"
   ]
  },
  {
   "cell_type": "code",
   "execution_count": 29,
   "id": "8a1cc8ca",
   "metadata": {},
   "outputs": [],
   "source": [
    "#Define model\n",
    "model = Sequential([\n",
    "    LSTM(64, input_shape = X_train.shape[1:], return_sequences=True),\n",
    "    Dense(64, activation='sigmoid'),\n",
    "    Dropout(0.5),\n",
    "    Dense(1, activation='sigmoid')\n",
    "])\n",
    "\n",
    "#Compile model\n",
    "model.compile(loss='binary_crossentropy',\n",
    "              optimizer=Adam(1e-4),\n",
    "              metrics=['accuracy'])"
   ]
  },
  {
   "cell_type": "code",
   "execution_count": 30,
   "id": "4e603a63",
   "metadata": {},
   "outputs": [
    {
     "name": "stdout",
     "output_type": "stream",
     "text": [
      "Model: \"sequential\"\n",
      "_________________________________________________________________\n",
      " Layer (type)                Output Shape              Param #   \n",
      "=================================================================\n",
      " lstm (LSTM)                 (None, 1000, 64)          16896     \n",
      "                                                                 \n",
      " dense (Dense)               (None, 1000, 64)          4160      \n",
      "                                                                 \n",
      " dropout (Dropout)           (None, 1000, 64)          0         \n",
      "                                                                 \n",
      " dense_1 (Dense)             (None, 1000, 1)           65        \n",
      "                                                                 \n",
      "=================================================================\n",
      "Total params: 21,121\n",
      "Trainable params: 21,121\n",
      "Non-trainable params: 0\n",
      "_________________________________________________________________\n"
     ]
    }
   ],
   "source": [
    "# summarize model\n",
    "model.summary()"
   ]
  },
  {
   "cell_type": "code",
   "execution_count": 31,
   "id": "bb7a0b2a",
   "metadata": {},
   "outputs": [
    {
     "name": "stdout",
     "output_type": "stream",
     "text": [
      "Epoch 1/10\n",
      "215/215 [==============================] - 102s 466ms/step - loss: 0.7613 - accuracy: 0.4990 - val_loss: 0.6829 - val_accuracy: 0.5706\n",
      "Epoch 2/10\n",
      "215/215 [==============================] - 96s 448ms/step - loss: 0.7323 - accuracy: 0.5245 - val_loss: 0.6827 - val_accuracy: 0.5709\n",
      "Epoch 3/10\n",
      "215/215 [==============================] - 99s 460ms/step - loss: 0.7256 - accuracy: 0.5277 - val_loss: 0.6831 - val_accuracy: 0.5711\n",
      "Epoch 4/10\n",
      "215/215 [==============================] - 99s 460ms/step - loss: 0.7150 - accuracy: 0.5332 - val_loss: 0.6828 - val_accuracy: 0.5709\n",
      "Epoch 5/10\n",
      "215/215 [==============================] - 99s 459ms/step - loss: 0.7020 - accuracy: 0.5370 - val_loss: 0.6827 - val_accuracy: 0.5717\n",
      "Epoch 6/10\n",
      "215/215 [==============================] - 101s 471ms/step - loss: 0.6953 - accuracy: 0.5442 - val_loss: 0.6825 - val_accuracy: 0.5721\n",
      "Epoch 7/10\n",
      "215/215 [==============================] - 102s 473ms/step - loss: 0.6919 - accuracy: 0.5524 - val_loss: 0.6827 - val_accuracy: 0.5723\n",
      "Epoch 8/10\n",
      "215/215 [==============================] - 101s 468ms/step - loss: 0.6901 - accuracy: 0.5551 - val_loss: 0.6824 - val_accuracy: 0.5726\n",
      "Epoch 9/10\n",
      "215/215 [==============================] - 98s 454ms/step - loss: 0.6889 - accuracy: 0.5568 - val_loss: 0.6824 - val_accuracy: 0.5727\n",
      "Epoch 10/10\n",
      "215/215 [==============================] - 97s 453ms/step - loss: 0.6878 - accuracy: 0.5619 - val_loss: 0.6826 - val_accuracy: 0.5729\n"
     ]
    }
   ],
   "source": [
    "# fit model\n",
    "history = model.fit(X_train,y_train, validation_data=(X_valid,y_valid), epochs = 10)"
   ]
  },
  {
   "cell_type": "markdown",
   "id": "a8d386d3",
   "metadata": {},
   "source": [
    "### Model Results and Analysis"
   ]
  },
  {
   "cell_type": "code",
   "execution_count": 32,
   "id": "c128080e",
   "metadata": {},
   "outputs": [
    {
     "data": {
      "image/png": "[encoded data removed]",
      "text/plain": [
       "<Figure size 500x500 with 1 Axes>"
      ]
     },
     "metadata": {},
     "output_type": "display_data"
    }
   ],
   "source": [
    "plt.figure(figsize=(5, 5))\n",
    "plt.plot(history.history[\"accuracy\"], zorder = 0, label = \"Training Accuracy\")\n",
    "plt.plot(history.history[\"val_accuracy\"], zorder = 1, label = \"Validation Accuracy\")\n",
    "plt.legend()\n",
    "plt.xlabel(\"Epoch\")\n",
    "plt.ylabel(\"Accuracy\")\n",
    "plt.title(\"Accuracy Vs. Epoch for TF-IDF RNN Model\")\n",
    "plt.show()"
   ]
  },
  {
   "cell_type": "code",
   "execution_count": 33,
   "id": "02dbbfcd",
   "metadata": {},
   "outputs": [
    {
     "data": {
      "image/png": "[encoded data removed]",
      "text/plain": [
       "<Figure size 500x500 with 1 Axes>"
      ]
     },
     "metadata": {},
     "output_type": "display_data"
    }
   ],
   "source": [
    "plt.figure(figsize=(5, 5))\n",
    "plt.plot(history.history[\"loss\"], zorder = 0, label = \"Training Loss\")\n",
    "plt.plot(history.history[\"val_loss\"], zorder = 1, label = \"Validation Loss\")\n",
    "plt.legend()\n",
    "plt.xlabel(\"Epoch\")\n",
    "plt.ylabel(\"Loss\")\n",
    "plt.title(\"Loss Vs. Epoch for TF-IDF RNN Model\")\n",
    "plt.show()"
   ]
  },
  {
   "cell_type": "markdown",
   "id": "1c9af091",
   "metadata": {},
   "source": [
    "#### Model Comments"
   ]
  },
  {
   "cell_type": "markdown",
   "id": "def620f6",
   "metadata": {},
   "source": [
    "The RNN model with TF-IDF does not seem like a good fit for the data. From the above graphs, we can see that the model does well with the training set, but does poorly with the validation set. The accuracy and loss for the validation set seem to be stagnant."
   ]
  },
  {
   "cell_type": "markdown",
   "id": "a6fa0b4c",
   "metadata": {},
   "source": [
    "### Alternate Model"
   ]
  },
  {
   "cell_type": "markdown",
   "id": "e9b7cf18",
   "metadata": {},
   "source": [
    "Instead of using TF-IDF for word embedding, we will use the Embedding Layer provided by Keras. The Embedding Layer can be used to train our own embeddings. It enables us to convert each word into a fixed length vector of defined size. \n",
    "\n",
    "The requirement is that the input text data should be numerical encoded, so that each word is represented by a unique integer. This can be prepared by using the keras.Tokenizer."
   ]
  },
  {
   "cell_type": "code",
   "execution_count": 34,
   "id": "79548b0b",
   "metadata": {},
   "outputs": [],
   "source": [
    "X = train_data['text']\n",
    "y = train_data['target']\n",
    "X_tr, X_tst, y_tr, y_tst = train_test_split(X, y, test_size=0.10, random_state=41)"
   ]
  },
  {
   "cell_type": "code",
   "execution_count": 35,
   "id": "e2c22b4b",
   "metadata": {},
   "outputs": [],
   "source": [
    "#References #14, #15\n",
    "t = Tokenizer(num_words = 10000)\n",
    "t.fit_on_texts(X_tr)"
   ]
  },
  {
   "cell_type": "code",
   "execution_count": 36,
   "id": "d74afc59",
   "metadata": {},
   "outputs": [
    {
     "name": "stdout",
     "output_type": "stream",
     "text": [
      "[[5655, 5656, 55, 367, 456, 37, 3762, 6, 1053, 694, 287], [243, 305, 5657, 774, 1, 5658, 2]]\n"
     ]
    }
   ],
   "source": [
    "encoded_train = t.texts_to_sequences(X_tr)\n",
    "encoded_test = t.texts_to_sequences(X_tst)\n",
    "print(encoded_train[0:2])"
   ]
  },
  {
   "cell_type": "code",
   "execution_count": 37,
   "id": "7cf5370b",
   "metadata": {},
   "outputs": [
    {
     "name": "stdout",
     "output_type": "stream",
     "text": [
      "[[5655 5656   55 ...    0    0    0]\n",
      " [ 243  305 5657 ...    0    0    0]\n",
      " [  12   84   85 ...    0    0    0]\n",
      " ...\n",
      " [5353  182  118 ...    0    0    0]\n",
      " [   5 5436 5358 ...    0    0    0]\n",
      " [2190   27  991 ...    0    0    0]]\n"
     ]
    }
   ],
   "source": [
    "max_length = 25\n",
    "padded_train = pad_sequences(encoded_train, maxlen=max_length, padding='post', truncating='post')\n",
    "padded_test = pad_sequences(encoded_test, maxlen=max_length, padding='post', truncating='post')\n",
    "print(padded_train)"
   ]
  },
  {
   "cell_type": "markdown",
   "id": "ea5e2241",
   "metadata": {},
   "source": [
    "In this RNN model architecture, we will use 2 Bidirectional LSTM layers."
   ]
  },
  {
   "cell_type": "code",
   "execution_count": 38,
   "id": "a9390f91",
   "metadata": {},
   "outputs": [
    {
     "name": "stdout",
     "output_type": "stream",
     "text": [
      "Model: \"sequential_1\"\n",
      "_________________________________________________________________\n",
      " Layer (type)                Output Shape              Param #   \n",
      "=================================================================\n",
      " embedding (Embedding)       (None, None, 128)         1280000   \n",
      "                                                                 \n",
      " bidirectional (Bidirectiona  (None, None, 256)        263168    \n",
      " l)                                                              \n",
      "                                                                 \n",
      " bidirectional_1 (Bidirectio  (None, 128)              164352    \n",
      " nal)                                                            \n",
      "                                                                 \n",
      " dense_2 (Dense)             (None, 128)               16512     \n",
      "                                                                 \n",
      " dropout_1 (Dropout)         (None, 128)               0         \n",
      "                                                                 \n",
      " dense_3 (Dense)             (None, 1)                 129       \n",
      "                                                                 \n",
      "=================================================================\n",
      "Total params: 1,724,161\n",
      "Trainable params: 1,724,161\n",
      "Non-trainable params: 0\n",
      "_________________________________________________________________\n"
     ]
    }
   ],
   "source": [
    "# define model\n",
    "model1 = Sequential()\n",
    "model1.add(Embedding(10000, 128))\n",
    "model1.add(tf.keras.layers.Bidirectional(LSTM(128, return_sequences=True)))\n",
    "model1.add(tf.keras.layers.Bidirectional(LSTM(64)))\n",
    "model1.add(Dense(128, activation = 'relu'))\n",
    "model1.add(Dropout(0.5))\n",
    "model1.add(Dense(1, activation='sigmoid'))\n",
    "\n",
    "# compile model\n",
    "model1.compile(loss = 'binary_crossentropy', optimizer=Adam(1e-4), metrics = ['accuracy'])\n",
    "\n",
    "# summarize model\n",
    "model1.summary()"
   ]
  },
  {
   "cell_type": "code",
   "execution_count": 39,
   "id": "0ef5d155",
   "metadata": {},
   "outputs": [],
   "source": [
    "early_stopping = tf.keras.callbacks.EarlyStopping(monitor='val_loss', patience=10,  mode='min')"
   ]
  },
  {
   "cell_type": "code",
   "execution_count": 40,
   "id": "e985eb98",
   "metadata": {},
   "outputs": [
    {
     "name": "stdout",
     "output_type": "stream",
     "text": [
      "Epoch 1/100\n",
      "215/215 [==============================] - 25s 87ms/step - loss: 0.6708 - accuracy: 0.5856 - val_loss: 0.6176 - val_accuracy: 0.6969\n",
      "Epoch 2/100\n",
      "215/215 [==============================] - 16s 75ms/step - loss: 0.4509 - accuracy: 0.8009 - val_loss: 0.4309 - val_accuracy: 0.8163\n",
      "Epoch 3/100\n",
      "215/215 [==============================] - 17s 77ms/step - loss: 0.3168 - accuracy: 0.8734 - val_loss: 0.4490 - val_accuracy: 0.8215\n",
      "Epoch 4/100\n",
      "215/215 [==============================] - 17s 80ms/step - loss: 0.2441 - accuracy: 0.9101 - val_loss: 0.4960 - val_accuracy: 0.7887\n",
      "Epoch 5/100\n",
      "215/215 [==============================] - 18s 82ms/step - loss: 0.1961 - accuracy: 0.9315 - val_loss: 0.5765 - val_accuracy: 0.7966\n",
      "Epoch 6/100\n",
      "215/215 [==============================] - 16s 77ms/step - loss: 0.1560 - accuracy: 0.9441 - val_loss: 0.6784 - val_accuracy: 0.7900\n",
      "Epoch 7/100\n",
      "215/215 [==============================] - 15s 72ms/step - loss: 0.1269 - accuracy: 0.9561 - val_loss: 0.7328 - val_accuracy: 0.7835\n",
      "Epoch 8/100\n",
      "215/215 [==============================] - 16s 74ms/step - loss: 0.1076 - accuracy: 0.9653 - val_loss: 0.7504 - val_accuracy: 0.7612\n",
      "Epoch 9/100\n",
      "215/215 [==============================] - 17s 78ms/step - loss: 0.0947 - accuracy: 0.9688 - val_loss: 0.9287 - val_accuracy: 0.7664\n",
      "Epoch 10/100\n",
      "215/215 [==============================] - 16s 77ms/step - loss: 0.0887 - accuracy: 0.9710 - val_loss: 0.9354 - val_accuracy: 0.7598\n",
      "Epoch 11/100\n",
      "215/215 [==============================] - 16s 76ms/step - loss: 0.0816 - accuracy: 0.9730 - val_loss: 0.9753 - val_accuracy: 0.7664\n",
      "Epoch 12/100\n",
      "215/215 [==============================] - 16s 73ms/step - loss: 0.0767 - accuracy: 0.9717 - val_loss: 1.0593 - val_accuracy: 0.7651\n"
     ]
    }
   ],
   "source": [
    "#fit model\n",
    "hist = model1.fit(padded_train,y_tr, validation_data=(padded_test,y_tst), epochs = 100, callbacks=[early_stopping])"
   ]
  },
  {
   "cell_type": "markdown",
   "id": "280a8cec",
   "metadata": {},
   "source": [
    "### Model Results and Analysis"
   ]
  },
  {
   "cell_type": "code",
   "execution_count": 41,
   "id": "7d504856",
   "metadata": {},
   "outputs": [
    {
     "data": {
      "image/png": "[encoded data removed]",
      "text/plain": [
       "<Figure size 500x500 with 1 Axes>"
      ]
     },
     "metadata": {},
     "output_type": "display_data"
    }
   ],
   "source": [
    "plt.figure(figsize=(5, 5))\n",
    "plt.plot(hist.history[\"accuracy\"], zorder = 0, label = \"Training Accuracy\")\n",
    "plt.plot(hist.history[\"val_accuracy\"], zorder = 1, label = \"Validation Accuracy\")\n",
    "plt.legend()\n",
    "plt.xlabel(\"Epoch\")\n",
    "plt.ylabel(\"Accuracy\")\n",
    "plt.title(\"Accuracy Vs. Epoch for RNN Model\")\n",
    "plt.show()"
   ]
  },
  {
   "cell_type": "code",
   "execution_count": 42,
   "id": "ae7008ec",
   "metadata": {},
   "outputs": [
    {
     "data": {
      "image/png": "[encoded data removed]",
      "text/plain": [
       "<Figure size 500x500 with 1 Axes>"
      ]
     },
     "metadata": {},
     "output_type": "display_data"
    }
   ],
   "source": [
    "plt.figure(figsize=(5, 5))\n",
    "plt.plot(hist.history[\"loss\"], zorder = 0, label = \"Training Loss\")\n",
    "plt.plot(hist.history[\"val_loss\"], zorder = 1, label = \"Validation Loss\")\n",
    "plt.legend()\n",
    "plt.xlabel(\"Epoch\")\n",
    "plt.ylabel(\"Loss\")\n",
    "plt.title(\"Loss Vs. Epoch for LSTM Model\")\n",
    "plt.show()"
   ]
  },
  {
   "cell_type": "code",
   "execution_count": 43,
   "id": "1aadde04",
   "metadata": {},
   "outputs": [
    {
     "name": "stdout",
     "output_type": "stream",
     "text": [
      "24/24 [==============================] - 2s 16ms/step\n"
     ]
    }
   ],
   "source": [
    "from sklearn import metrics\n",
    "\n",
    "y_pred = model1.predict(padded_test).round()"
   ]
  },
  {
   "cell_type": "code",
   "execution_count": 44,
   "id": "4e11fb38",
   "metadata": {},
   "outputs": [
    {
     "name": "stdout",
     "output_type": "stream",
     "text": [
      "215/215 [==============================] - 4s 21ms/step\n"
     ]
    },
    {
     "data": {
      "text/plain": [
       "98.13165961173551"
      ]
     },
     "execution_count": 44,
     "metadata": {},
     "output_type": "execute_result"
    }
   ],
   "source": [
    "train_accuracy = metrics.accuracy_score(y_tr, model1.predict(padded_train).round())*100\n",
    "train_accuracy"
   ]
  },
  {
   "cell_type": "code",
   "execution_count": 45,
   "id": "60e2e3a9",
   "metadata": {},
   "outputs": [
    {
     "data": {
      "text/plain": [
       "76.50918635170603"
      ]
     },
     "execution_count": 45,
     "metadata": {},
     "output_type": "execute_result"
    }
   ],
   "source": [
    "test_accuracy = metrics.accuracy_score(y_tst, y_pred)*100\n",
    "test_accuracy"
   ]
  },
  {
   "cell_type": "code",
   "execution_count": 46,
   "id": "fd571725",
   "metadata": {},
   "outputs": [
    {
     "name": "stdout",
     "output_type": "stream",
     "text": [
      "              precision    recall  f1-score   support\n",
      "\n",
      "           0       0.79      0.81      0.80       437\n",
      "           1       0.73      0.71      0.72       325\n",
      "\n",
      "    accuracy                           0.77       762\n",
      "   macro avg       0.76      0.76      0.76       762\n",
      "weighted avg       0.76      0.77      0.76       762\n",
      "\n"
     ]
    }
   ],
   "source": [
    "print(metrics.classification_report(y_tst, y_pred))"
   ]
  },
  {
   "cell_type": "markdown",
   "id": "930de133",
   "metadata": {},
   "source": [
    "### Hyperparameter Tuning"
   ]
  },
  {
   "cell_type": "markdown",
   "id": "768cbfaa",
   "metadata": {},
   "source": [
    "The Keras Tuner library that helps with hyperparameter optimization for tensorflow applications(https://www.tensorflow.org/tutorials/keras/keras_tuner). We will use it to find the best hyperparameters for our Bidirectional RNN Model. "
   ]
  },
  {
   "cell_type": "code",
   "execution_count": 47,
   "id": "acc878f9",
   "metadata": {},
   "outputs": [],
   "source": [
    "import keras_tuner as kt"
   ]
  },
  {
   "cell_type": "code",
   "execution_count": 48,
   "id": "e52db58c",
   "metadata": {},
   "outputs": [
    {
     "name": "stdout",
     "output_type": "stream",
     "text": [
      "Trial 4 Complete [00h 09m 48s]\n",
      "accuracy: 0.9622682631015778\n",
      "\n",
      "Best accuracy So Far: 0.9764268100261688\n",
      "Total elapsed time: 00h 33m 30s\n",
      "INFO:tensorflow:Oracle triggered exit\n"
     ]
    }
   ],
   "source": [
    "def model_builder(hp):\n",
    "    model2 = Sequential()\n",
    "    model2.add(Embedding(10000, 128))\n",
    "    model2.add(tf.keras.layers.Bidirectional(LSTM(128, return_sequences=True)))\n",
    "    model2.add(tf.keras.layers.Bidirectional(LSTM(64)))\n",
    "    model2.add(Dense(128, activation=hp.Choice('dense_activation',values=['relu', 'sigmoid'],default='relu')))\n",
    "    model2.add(Dropout(hp.Float('Dropout_rate',min_value=0,max_value=0.5,step=0.1)))\n",
    "    model2.add(Dense(1, activation=hp.Choice('dense_activation',values=['relu', 'sigmoid'],default='relu')))\n",
    "   \n",
    "    model2.compile(loss='binary_crossentropy', optimizer=Adam(hp.Choice('learning_rate',values=[1e-2, 1e-3, 1e-4])), metrics=['accuracy'])\n",
    "    \n",
    "    return model2\n",
    "    \n",
    "tuner = kt.RandomSearch(model_builder, objective='accuracy', max_trials=4, executions_per_trial=2)\n",
    "\n",
    "tuner.search(x=padded_train, y=y_tr, epochs = 100, validation_data=(padded_test, y_tst), callbacks=[early_stopping])"
   ]
  },
  {
   "cell_type": "code",
   "execution_count": 49,
   "id": "8732b351",
   "metadata": {},
   "outputs": [],
   "source": [
    "best_model = tuner.get_best_models(num_models=1)[0]"
   ]
  },
  {
   "cell_type": "code",
   "execution_count": 50,
   "id": "15a9178a",
   "metadata": {},
   "outputs": [
    {
     "name": "stdout",
     "output_type": "stream",
     "text": [
      "Results summary\n",
      "Results in .\\untitled_project\n",
      "Showing 10 best trials\n",
      "Objective(name=\"accuracy\", direction=\"max\")\n",
      "\n",
      "Trial 2 summary\n",
      "Hyperparameters:\n",
      "dense_activation: sigmoid\n",
      "Dropout_rate: 0.0\n",
      "learning_rate: 0.01\n",
      "Score: 0.9764268100261688\n",
      "\n",
      "Trial 0 summary\n",
      "Hyperparameters:\n",
      "dense_activation: sigmoid\n",
      "Dropout_rate: 0.2\n",
      "learning_rate: 0.01\n",
      "Score: 0.9735804796218872\n",
      "\n",
      "Trial 3 summary\n",
      "Hyperparameters:\n",
      "dense_activation: relu\n",
      "Dropout_rate: 0.1\n",
      "learning_rate: 0.0001\n",
      "Score: 0.9622682631015778\n",
      "\n",
      "Trial 1 summary\n",
      "Hyperparameters:\n",
      "dense_activation: relu\n",
      "Dropout_rate: 0.30000000000000004\n",
      "learning_rate: 0.0001\n",
      "Score: 0.955991804599762\n"
     ]
    }
   ],
   "source": [
    "tuner.results_summary()"
   ]
  },
  {
   "cell_type": "code",
   "execution_count": 51,
   "id": "d1cb00b9",
   "metadata": {},
   "outputs": [
    {
     "name": "stdout",
     "output_type": "stream",
     "text": [
      "Model: \"sequential_1\"\n",
      "_________________________________________________________________\n",
      " Layer (type)                Output Shape              Param #   \n",
      "=================================================================\n",
      " embedding_1 (Embedding)     (None, None, 128)         1280000   \n",
      "                                                                 \n",
      " bidirectional_2 (Bidirectio  (None, None, 256)        263168    \n",
      " nal)                                                            \n",
      "                                                                 \n",
      " bidirectional_3 (Bidirectio  (None, 128)              164352    \n",
      " nal)                                                            \n",
      "                                                                 \n",
      " dense_2 (Dense)             (None, 128)               16512     \n",
      "                                                                 \n",
      " dropout_1 (Dropout)         (None, 128)               0         \n",
      "                                                                 \n",
      " dense_3 (Dense)             (None, 1)                 129       \n",
      "                                                                 \n",
      "=================================================================\n",
      "Total params: 1,724,161\n",
      "Trainable params: 1,724,161\n",
      "Non-trainable params: 0\n",
      "_________________________________________________________________\n"
     ]
    }
   ],
   "source": [
    "#Retrain Model with Best Hyperparameters\n",
    "final_model = Sequential()\n",
    "final_model.add(Embedding(10000, 128))\n",
    "final_model.add(tf.keras.layers.Bidirectional(LSTM(128, return_sequences=True)))\n",
    "final_model.add(tf.keras.layers.Bidirectional(LSTM(64)))\n",
    "final_model.add(Dense(128, activation = 'sigmoid'))\n",
    "final_model.add(Dropout(0.0))\n",
    "final_model.add(Dense(1, activation='sigmoid'))\n",
    "\n",
    "# compile model\n",
    "final_model.compile(loss = 'binary_crossentropy', optimizer=Adam(0.01), metrics = ['accuracy'])\n",
    "\n",
    "# summarize model\n",
    "final_model.summary()"
   ]
  },
  {
   "cell_type": "code",
   "execution_count": 52,
   "id": "78d77500",
   "metadata": {},
   "outputs": [
    {
     "name": "stdout",
     "output_type": "stream",
     "text": [
      "Epoch 1/100\n",
      "215/215 [==============================] - 23s 83ms/step - loss: 0.5177 - accuracy: 0.7530 - val_loss: 0.4472 - val_accuracy: 0.8031\n",
      "Epoch 2/100\n",
      "215/215 [==============================] - 20s 94ms/step - loss: 0.3071 - accuracy: 0.8822 - val_loss: 0.4651 - val_accuracy: 0.7874\n",
      "Epoch 3/100\n",
      "215/215 [==============================] - 19s 89ms/step - loss: 0.2098 - accuracy: 0.9223 - val_loss: 0.5643 - val_accuracy: 0.7966\n",
      "Epoch 4/100\n",
      "215/215 [==============================] - 19s 88ms/step - loss: 0.1459 - accuracy: 0.9453 - val_loss: 0.7066 - val_accuracy: 0.7598\n",
      "Epoch 5/100\n",
      "215/215 [==============================] - 21s 96ms/step - loss: 0.1007 - accuracy: 0.9591 - val_loss: 0.7578 - val_accuracy: 0.7520\n",
      "Epoch 6/100\n",
      "215/215 [==============================] - 20s 93ms/step - loss: 0.0885 - accuracy: 0.9635 - val_loss: 0.8166 - val_accuracy: 0.7717\n",
      "Epoch 7/100\n",
      "215/215 [==============================] - 20s 95ms/step - loss: 0.0762 - accuracy: 0.9673 - val_loss: 0.9124 - val_accuracy: 0.7559\n",
      "Epoch 8/100\n",
      "215/215 [==============================] - 20s 93ms/step - loss: 0.0741 - accuracy: 0.9691 - val_loss: 0.8721 - val_accuracy: 0.7690\n",
      "Epoch 9/100\n",
      "215/215 [==============================] - 20s 93ms/step - loss: 0.0750 - accuracy: 0.9670 - val_loss: 0.9702 - val_accuracy: 0.7756\n",
      "Epoch 10/100\n",
      "215/215 [==============================] - 20s 94ms/step - loss: 0.0626 - accuracy: 0.9742 - val_loss: 1.0085 - val_accuracy: 0.7625\n",
      "Epoch 11/100\n",
      "215/215 [==============================] - 21s 97ms/step - loss: 0.0579 - accuracy: 0.9730 - val_loss: 1.1660 - val_accuracy: 0.7415\n"
     ]
    }
   ],
   "source": [
    "final_hist = final_model.fit(padded_train,y_tr, validation_data=(padded_test,y_tst), epochs = 100, callbacks=[early_stopping])"
   ]
  },
  {
   "cell_type": "code",
   "execution_count": 53,
   "id": "440ad95b",
   "metadata": {},
   "outputs": [
    {
     "data": {
      "image/png": "[encoded data removed]",
      "text/plain": [
       "<Figure size 500x500 with 1 Axes>"
      ]
     },
     "metadata": {},
     "output_type": "display_data"
    }
   ],
   "source": [
    "plt.figure(figsize=(5, 5))\n",
    "plt.plot(final_hist.history[\"accuracy\"], zorder = 0, label = \"Training Accuracy\")\n",
    "plt.plot(final_hist.history[\"val_accuracy\"], zorder = 1, label = \"Validation Accuracy\")\n",
    "plt.legend()\n",
    "plt.xlabel(\"Epoch\")\n",
    "plt.ylabel(\"Accuracy\")\n",
    "plt.title(\"Accuracy Vs. Epoch for RNN Model\")\n",
    "plt.show()"
   ]
  },
  {
   "cell_type": "code",
   "execution_count": 54,
   "id": "c0bf5834",
   "metadata": {},
   "outputs": [
    {
     "data": {
      "image/png": "[encoded data removed]",
      "text/plain": [
       "<Figure size 500x500 with 1 Axes>"
      ]
     },
     "metadata": {},
     "output_type": "display_data"
    }
   ],
   "source": [
    "plt.figure(figsize=(5, 5))\n",
    "plt.plot(final_hist.history[\"loss\"], zorder = 0, label = \"Training Loss\")\n",
    "plt.plot(final_hist.history[\"val_loss\"], zorder = 1, label = \"Validation Loss\")\n",
    "plt.legend()\n",
    "plt.xlabel(\"Epoch\")\n",
    "plt.ylabel(\"Loss\")\n",
    "plt.title(\"Loss Vs. Epoch for LSTM Model\")\n",
    "plt.show()"
   ]
  },
  {
   "cell_type": "code",
   "execution_count": 55,
   "id": "1aeaba43",
   "metadata": {},
   "outputs": [
    {
     "name": "stdout",
     "output_type": "stream",
     "text": [
      "24/24 [==============================] - 2s 25ms/step\n"
     ]
    }
   ],
   "source": [
    "yhat_pred = final_model.predict(padded_test).round()"
   ]
  },
  {
   "cell_type": "code",
   "execution_count": 56,
   "id": "97e9eafd",
   "metadata": {},
   "outputs": [
    {
     "name": "stdout",
     "output_type": "stream",
     "text": [
      "215/215 [==============================] - 5s 24ms/step\n"
     ]
    },
    {
     "data": {
      "text/plain": [
       "97.7521529703693"
      ]
     },
     "execution_count": 56,
     "metadata": {},
     "output_type": "execute_result"
    }
   ],
   "source": [
    "train_accuracy = metrics.accuracy_score(y_tr, final_model.predict(padded_train).round())*100\n",
    "train_accuracy"
   ]
  },
  {
   "cell_type": "code",
   "execution_count": 57,
   "id": "721ba167",
   "metadata": {},
   "outputs": [
    {
     "name": "stdout",
     "output_type": "stream",
     "text": [
      "              precision    recall  f1-score   support\n",
      "\n",
      "           0       0.80      0.73      0.76       437\n",
      "           1       0.67      0.76      0.72       325\n",
      "\n",
      "    accuracy                           0.74       762\n",
      "   macro avg       0.74      0.74      0.74       762\n",
      "weighted avg       0.75      0.74      0.74       762\n",
      "\n"
     ]
    }
   ],
   "source": [
    "print(metrics.classification_report(y_tst, yhat_pred))"
   ]
  },
  {
   "cell_type": "markdown",
   "id": "dbb46e27",
   "metadata": {},
   "source": [
    "### Model Commentary"
   ]
  },
  {
   "cell_type": "markdown",
   "id": "f1c83b7a",
   "metadata": {},
   "source": [
    "The Bidirectional RNN model without TF-IDF is much better than the RNN model with TF-IDF. Encoding the training data and using the Embedding layer to train our own word embeddings improved the performance and timing of the model significantly. Initially I trained the model with one LSTM layer like the first RNN model with TF-IDF. The performance was good, but by using two bidirectional LSTM layers improved the accuracy of the training set and validation set. After hyperparameter tuning, I found that the best hyperparameters for the model is dense activation = 'sigmoid', Dropout rate = 0.0 and learning rate = 0.01."
   ]
  },
  {
   "cell_type": "markdown",
   "id": "7e3f941d",
   "metadata": {},
   "source": [
    "## Test Data Submission"
   ]
  },
  {
   "cell_type": "code",
   "execution_count": 58,
   "id": "0b8899fd",
   "metadata": {},
   "outputs": [
    {
     "data": {
      "text/html": [
       "<div>\n",
       "<style scoped>\n",
       "    .dataframe tbody tr th:only-of-type {\n",
       "        vertical-align: middle;\n",
       "    }\n",
       "\n",
       "    .dataframe tbody tr th {\n",
       "        vertical-align: top;\n",
       "    }\n",
       "\n",
       "    .dataframe thead th {\n",
       "        text-align: right;\n",
       "    }\n",
       "</style>\n",
       "<table border=\"1\" class=\"dataframe\">\n",
       "  <thead>\n",
       "    <tr style=\"text-align: right;\">\n",
       "      <th></th>\n",
       "      <th>id</th>\n",
       "      <th>text</th>\n",
       "    </tr>\n",
       "  </thead>\n",
       "  <tbody>\n",
       "    <tr>\n",
       "      <th>0</th>\n",
       "      <td>0</td>\n",
       "      <td>happened terrible car crash</td>\n",
       "    </tr>\n",
       "    <tr>\n",
       "      <th>1</th>\n",
       "      <td>2</td>\n",
       "      <td>heard earthquake different city stay safe ever...</td>\n",
       "    </tr>\n",
       "    <tr>\n",
       "      <th>2</th>\n",
       "      <td>3</td>\n",
       "      <td>forest fire spot pond goose fleeing across str...</td>\n",
       "    </tr>\n",
       "    <tr>\n",
       "      <th>3</th>\n",
       "      <td>9</td>\n",
       "      <td>apocalypse lighting spokane wildfire</td>\n",
       "    </tr>\n",
       "    <tr>\n",
       "      <th>4</th>\n",
       "      <td>11</td>\n",
       "      <td>typhoon soudelor kill china taiwan</td>\n",
       "    </tr>\n",
       "  </tbody>\n",
       "</table>\n",
       "</div>"
      ],
      "text/plain": [
       "   id                                               text\n",
       "0   0                        happened terrible car crash\n",
       "1   2  heard earthquake different city stay safe ever...\n",
       "2   3  forest fire spot pond goose fleeing across str...\n",
       "3   9               apocalypse lighting spokane wildfire\n",
       "4  11                 typhoon soudelor kill china taiwan"
      ]
     },
     "execution_count": 58,
     "metadata": {},
     "output_type": "execute_result"
    }
   ],
   "source": [
    "#Clean Test Data\n",
    "#Lowercase all text\n",
    "test_data[\"text\"] = test_data[\"text\"].str.lower()\n",
    "\n",
    "#Remove numeric and special characters, including punctuation\n",
    "test_data[\"text\"] = test_data[\"text\"].apply(lambda row: re.sub(r'[^\\w\\s]+', '', row))\n",
    "test_data[\"text\"] = test_data[\"text\"].apply(lambda row: re.sub(r'[0-9]', '', row))\n",
    "\n",
    "#Remove stopwords\n",
    "test_data[\"text\"] = test_data[\"text\"].apply(lambda words: ' '.join(word for word in words.split() if word not in stopwords))\n",
    "\n",
    "#Lemmatization\n",
    "test_data[\"text\"] = test_data[\"text\"].apply(lemmatizer)\n",
    "\n",
    "test_data.head()"
   ]
  },
  {
   "cell_type": "code",
   "execution_count": 59,
   "id": "67c72749",
   "metadata": {},
   "outputs": [],
   "source": [
    "encoded_test_data = t.texts_to_sequences(test_data[\"text\"])"
   ]
  },
  {
   "cell_type": "code",
   "execution_count": 60,
   "id": "c3aa7906",
   "metadata": {},
   "outputs": [],
   "source": [
    "padded_test_data = pad_sequences(encoded_test_data, maxlen=max_length, padding='post', truncating='post')"
   ]
  },
  {
   "cell_type": "code",
   "execution_count": 61,
   "id": "bfb141a0",
   "metadata": {},
   "outputs": [
    {
     "name": "stdout",
     "output_type": "stream",
     "text": [
      "102/102 [==============================] - 3s 23ms/step\n"
     ]
    }
   ],
   "source": [
    "#RNN model without TF-IDF\n",
    "predictions = model1.predict(padded_test_data).round()"
   ]
  },
  {
   "cell_type": "code",
   "execution_count": 62,
   "id": "760c4371",
   "metadata": {},
   "outputs": [],
   "source": [
    "submission = pd.read_csv(\"C:/Users/venuk/Desktop/dtsa-5511/week4/NLP_Disaster_Tweets/sample_submission.csv\")\n",
    "submission['target'] = np.round(predictions).astype('int')\n",
    "#submission.to_csv('submission.csv', index=False)"
   ]
  },
  {
   "cell_type": "code",
   "execution_count": 63,
   "id": "e3c46c83",
   "metadata": {},
   "outputs": [
    {
     "name": "stdout",
     "output_type": "stream",
     "text": [
      "102/102 [==============================] - 2s 24ms/step\n"
     ]
    }
   ],
   "source": [
    "#RNN model with best hyperparameters and without TF-IDF \n",
    "final_predictions = final_model.predict(padded_test_data).round()"
   ]
  },
  {
   "cell_type": "code",
   "execution_count": 64,
   "id": "75172f4e",
   "metadata": {},
   "outputs": [],
   "source": [
    "submission1 = pd.read_csv(\"C:/Users/venuk/Desktop/dtsa-5511/week4/NLP_Disaster_Tweets/sample_submission.csv\")\n",
    "submission1['target'] = np.round(final_predictions).astype('int')\n",
    "#submission.to_csv('submission1.csv', index=False)"
   ]
  },
  {
   "cell_type": "markdown",
   "id": "e5cd32ff",
   "metadata": {},
   "source": [
    "## Conclusion"
   ]
  },
  {
   "cell_type": "markdown",
   "id": "c2d6431d",
   "metadata": {},
   "source": [
    "In this project, I compared two model architectures. One used TF-IDF for word embeddings and the other used the Embedded Layer provided by Keras. The first model using TF-IDF didn't do so well with the max training accuracy of 56% and max validation accuracy of 57%. The model also required more time for training even though I used a single LSTM layer.\n",
    "\n",
    "The second model architecture was more complex than the first model. This model did not use the TF-IDF vectors. Instead, we encoded the text from the training data using the Keras Tokenizer and also used an Embedding Layer in our model. The Embedding layer takes the encoded data as input and converts it into fixed length vectors for each word. I used two bidirectional LSTM layers in the model. The performance of this model improved greatly from the previous model. It had a max training accuracy of 98.1% and a max validation accuracy of 76.5%. After using the best hyperparameters found during hyperparameter optimization, the model still performed well, but the max training accuracy and max validation accuracy fell to 97.7% and 74% respectively.\n",
    "\n",
    "In the future, I would like to use pre-trained word embeddings such as GloVe to see if this will improve the model performance. I would also like to use GRU layers instead of LSTM. "
   ]
  },
  {
   "cell_type": "markdown",
   "id": "2bc61c60",
   "metadata": {},
   "source": [
    "### References\n",
    "\n",
    "1. https://www.ibm.com/cloud/learn/natural-language-processing\n",
    "2. https://www.kaggle.com/code/parulpandey/getting-started-with-nlp-a-general-intro\n",
    "3. https://www.kaggle.com/code/majinx/nlp-eda-tfidf-wordcloud-lemmatization\n",
    "4. https://www.kaggle.com/code/gunesevitan/nlp-with-disaster-tweets-eda-cleaning-and-bert\n",
    "5. https://stackoverflow.com/questions/47557563/lemmatization-of-all-pandas-cells\n",
    "6. https://www.kaggle.com/code/astraz93/beginners-tokenization-stemming-and-lemmatization\n",
    "7. https://towardsdatascience.com/text-preprocessing-in-natural-language-processing-using-python-6113ff5decd8\n",
    "8. https://www.kaggle.com/code/daotan/tweet-analysis-using-lstm\n",
    "9. https://www.tensorflow.org/text/tutorials/text_classification_rnn\n",
    "10. https://www.kaggle.com/code/neerajmohan/nlp-bidirectional-lstm-using-tensorflow-2-0#Tokenization\n",
    "11. https://www.kaggle.com/code/frankmollard/nlp-a-gentle-introduction-lstm-word2vec-bert\n",
    "12. https://www.kaggle.com/code/subhadeepdebnath/nlp-disaster-tweets-lstm-complete-guide#Step---2-:-Data-Pre-processing\n",
    "13. https://towardsdatascience.com/long-short-term-memory-lstm-in-keras-2b5749e953ac\n",
    "14. https://medium.com/analytics-vidhya/understanding-embedding-layer-in-keras-bbe3ff1327ce\n",
    "15. https://colab.research.google.com/drive/1CVZ4NTO3NRYNDV1MWxvx5Y5HKtgt0OCo#scrollTo=b537E9We_LWi\n",
    "16. https://www.tensorflow.org/tutorials/keras/keras_tuner\n",
    "17. https://medium.com/analytics-vidhya/hypertuning-a-lstm-with-keras-tuner-to-forecast-solar-irradiance-7da7577e96eb"
   ]
  },
  {
   "cell_type": "code",
   "execution_count": null,
   "id": "9a02b42d",
   "metadata": {},
   "outputs": [],
   "source": []
  }
 ],
 "metadata": {
  "kernelspec": {
   "display_name": "Python 3 (ipykernel)",
   "language": "python",
   "name": "python3"
  },
  "language_info": {
   "codemirror_mode": {
    "name": "ipython",
    "version": 3
   },
   "file_extension": ".py",
   "mimetype": "text/x-python",
   "name": "python",
   "nbconvert_exporter": "python",
   "pygments_lexer": "ipython3",
   "version": "3.9.16"
  }
 },
 "nbformat": 4,
 "nbformat_minor": 5
}
